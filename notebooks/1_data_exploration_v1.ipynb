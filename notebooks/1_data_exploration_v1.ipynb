{
 "cells": [
  {
   "cell_type": "code",
   "execution_count": 1,
   "metadata": {},
   "outputs": [],
   "source": [
    "# import common libraries\n",
    "import pandas as pd\n",
    "import numpy as np\n",
    "import matplotlib\n",
    "import matplotlib.pyplot as plt\n",
    "import seaborn as sns\n",
    "import warnings\n",
    "\n",
    "# set the seaborn run command for font parameters\n",
    "sns.set(rc={'font.weight': 'bold'}, font_scale=1.3)\n",
    "\n",
    "# set parameters to remove erroenous warning messages that clutter the notebook\n",
    "warnings.filterwarnings(\"ignore\", category=matplotlib.cbook.mplDeprecation)"
   ]
  },
  {
   "cell_type": "markdown",
   "metadata": {},
   "source": [
    "## Table of Contents\n",
    "\n",
    "1. [Business Understanding](#business-understanding)\n",
    "2. [Data Understanding](#data-understanding)\n",
    "3. [Data Preparation](#data-preparation)\n",
    "4. [Modeling](#modeling)\n",
    "5. [Evaluation](#evaluation)\n",
    "6. [Deployment](#deployment)\n",
    "\n",
    "## Business Understanding\n",
    "The City of Los Angeles is the 3rd largest City in the US.  Home to Hollywood\n",
    "\n",
    "<br>\n",
    "<br>\n",
    "\n",
    "## Data Understanding\n",
    "Agencies throughout the country participate in the FBI UCR Program and provide monthly summarized reports on ten Part I offenses known to law enforcement and reports on persons arrested. The Part I offenses, murder, rape, robbery, aggravated assault, human trafficking–commercial sex acts, human trafficking–involuntary servitude, burglary, motor vehicle theft, larceny-theft, and arson, are considered indicators of the level of crime occurring within the United States.<br>\n",
    "<br>\n",
    "Part I Offenses are ten serious crimes that occur on a regular basis and are likely to be reported to law enforcement. Part I Offenses are generally referred to as the “Crime Index” measurement. Part II Offenses represent “less serious” crime classifications.<br>\n",
    "<br>\n",
    "\n",
    "High Level Data Observations\n",
    "- 932,140 observations of crimes committed\n",
    "- Approximately 9% (81,078) result in an adult arrest\n",
    "- Approximately .33% (3,057) result in a juvenile arrest\n",
    "- Part 1 crimes - 372,823 crimes committed - 39% of data\n",
    "- Part 2 crimes - 559,317 crimes committed - 61% of data\n",
    "- Time Period - Full year data for 2020 - 2023 and Q1 for 2024<br>\n",
    "\n",
    "There are 27 (omitting crime ID field) features included in the data cover the following topics:\n",
    "<br>\n",
    "- date, time, location and description of each crime comitted\n",
    "- Victim demographics (Age, Sex, Descent)\n",
    "- Type of location where crimes are committed (Apartment, Gas Station, etc)\n",
    "- Weapon used in the crime\n",
    "- Status of the crime (Arrest made or continued investigation)\n",
    "- Geolocation\n",
    "\n",
    "## Data Preparation\n",
    "We will clean the data and then subset into 3 datasets:\n",
    "- Part 1 crimes\n",
    "- Part 2 crimes\n",
    "- All crimes\n",
    "\n",
    "### Data Cleaning\n",
    "- Columns `CrmCd2`, `CrmCd3`, `CrmCd4` have between 95% - 99% missing values. We will drop these columns.\n",
    "- For Part 1 crime, there are 53 unique crimes available in the data.  In order to evaluate crime trends, according to the 'national crime index', we will consolidate these crimes into the 10 Part 1 crimes.\n",
    "\n",
    "    Part I offense classifications include:<br>\n",
    "    1. Criminal Homicide<br>\n",
    "    2. Rape<br>\n",
    "    3. Robbery<br>\n",
    "    4. Aggravated Assault<br>\n",
    "    5. Burglary<br>\n",
    "    6. Larceny-theft (except motor vehicle theft)<br>\n",
    "    7. Motor Vehicle Theft<br>\n",
    "    8. Arson<br>\n",
    "    9. Human Trafficking, Commercial Sex Acts<br>\n",
    "    10.Human Trafficking, Involuntary Servitude<br> \n",
    "\n",
    "### Feature Engineering\n",
    "We will add the following features to improve data quality for more granular analysis:\n",
    "- `Year` - Extract year from `Date Occurred`\n",
    "- `Month` - Extract month from `Date Occurred`\n",
    "- `Day` - Extract day from `Date Occurred`\n",
    "- `Part of Day` - Descritize `Time Occurred` into 4 intervals (Morning, Afternoon, Evening, Night)\n",
    "\n",
    "### Data Visualization\n",
    "We will create an interactive map which shows crime activity per region.  \n",
    "\n",
    "\n",
    "## Modeling\n",
    "We will build a data model to predict the likelihood of an arrest being made for a crime.  We will use the following features:\n",
    "- `Victim Age`  \n",
    "- `Area Name`\n",
    "- `Weapon Used`\n",
    "\n",
    "## Evaluation\n",
    "...\n",
    "\n",
    "## Deployment\n",
    "Theoretically, the model can be deployed in the field, providing real time prediction for crimes, to optimize resources and improve resopnse times.\n",
    "\n",
    "As far as tech stack, we can use the [Django framework](https://www.djangoproject.com/), which is a high-level Python web framework that encourages rapid development and clean, pragmatic design.  We can also use the [Django REST framework(DRF)](https://www.django-rest-framework.org/) to create a RESTful API for the model.  In terms of infrastructure, we can deploy the Django application on [AWS Elastic Beanstack](https://docs.aws.amazon.com/elasticbeanstalk/latest/dg/create-deploy-python-django.html)\n",
    "\n",
    "Please send me an email if you have any questions:  dan.herman@me.com\n"
   ]
  },
  {
   "cell_type": "markdown",
   "metadata": {},
   "source": [
    "# Technical Overview"
   ]
  },
  {
   "cell_type": "markdown",
   "metadata": {},
   "source": [
    "### Read In the Data\n",
    "The primary analysis will be for the City of Los Angeles.<br>  \n",
    "We will also review data from New York and Chicago for comparison purposes."
   ]
  },
  {
   "cell_type": "code",
   "execution_count": 2,
   "metadata": {},
   "outputs": [
    {
     "name": "stdout",
     "output_type": "stream",
     "text": [
      "There are 932140 rows and 28 features in the dataset\n"
     ]
    }
   ],
   "source": [
    "# data for los angeles\n",
    "data = pd.read_csv('../data/crime_data.csv')\n",
    "\n",
    "# nyc = pd.read_csv('../data/nyc_crime.csv')\n",
    "# ord = pd.read_csv('../data/ord_crime.csv')\n",
    "\n",
    "print('There are {} rows and {} features in the dataset'.format(data.shape[0], data.shape[1]))"
   ]
  },
  {
   "cell_type": "markdown",
   "metadata": {},
   "source": [
    "### Pre-process the columns \n",
    "The date columns need to be formatted manually, as automated parsing at a row level will come with longer runtimes for 900,000+ rows"
   ]
  },
  {
   "cell_type": "code",
   "execution_count": 3,
   "metadata": {},
   "outputs": [],
   "source": [
    "# remove spaces from all column names\n",
    "data.columns = data.columns.str.replace(' ', '')\n",
    "\n",
    "# fix the formatting for date and time, include hours minutes seconds\n",
    "data['DateRptd'] = pd.to_datetime(data['DateRptd'], format='%m/%d/%Y %I:%M:%S %p')\n",
    "data['DATEOCC'] = pd.to_datetime(data['DATEOCC'], format='%m/%d/%Y %I:%M:%S %p')"
   ]
  },
  {
   "cell_type": "code",
   "execution_count": 4,
   "metadata": {},
   "outputs": [
    {
     "data": {
      "text/plain": [
       "Index(['DR_NO', 'DateRptd', 'DATEOCC', 'TIMEOCC', 'AREA', 'AREANAME',\n",
       "       'RptDistNo', 'Part1-2', 'CrmCd', 'CrmCdDesc', 'Mocodes', 'VictAge',\n",
       "       'VictSex', 'VictDescent', 'PremisCd', 'PremisDesc', 'WeaponUsedCd',\n",
       "       'WeaponDesc', 'Status', 'StatusDesc', 'CrmCd1', 'CrmCd2', 'CrmCd3',\n",
       "       'CrmCd4', 'LOCATION', 'CrossStreet', 'LAT', 'LON'],\n",
       "      dtype='object')"
      ]
     },
     "execution_count": 4,
     "metadata": {},
     "output_type": "execute_result"
    }
   ],
   "source": [
    "data.columns"
   ]
  },
  {
   "cell_type": "markdown",
   "metadata": {},
   "source": [
    "### Data Quality Issue\n",
    "There are 53 unique crime descriptions for part 1 crimes.  Part 1 crimes tend to fit under 10 categories.  We will consolidate these crimes into the 10 Part 1 crimes."
   ]
  },
  {
   "cell_type": "code",
   "execution_count": 5,
   "metadata": {},
   "outputs": [
    {
     "data": {
      "text/plain": [
       "CrmCdDesc\n",
       "BURGLARY FROM VEHICLE, ATTEMPTED                     667\n",
       "PURSE SNATCHING                                      107\n",
       "THEFT PLAIN - PETTY ($950 & UNDER)                 47568\n",
       "BIKE - ATTEMPTED STOLEN                                6\n",
       "THEFT FROM MOTOR VEHICLE - PETTY ($950 & UNDER)    36019\n",
       "Name: count, dtype: int64"
      ]
     },
     "execution_count": 5,
     "metadata": {},
     "output_type": "execute_result"
    }
   ],
   "source": [
    "data.loc[data['Part1-2']==1]['CrmCdDesc'].value_counts().sample(5)"
   ]
  },
  {
   "cell_type": "code",
   "execution_count": 6,
   "metadata": {},
   "outputs": [
    {
     "data": {
      "text/html": [
       "<div>\n",
       "<style scoped>\n",
       "    .dataframe tbody tr th:only-of-type {\n",
       "        vertical-align: middle;\n",
       "    }\n",
       "\n",
       "    .dataframe tbody tr th {\n",
       "        vertical-align: top;\n",
       "    }\n",
       "\n",
       "    .dataframe thead th {\n",
       "        text-align: right;\n",
       "    }\n",
       "</style>\n",
       "<table border=\"1\" class=\"dataframe\">\n",
       "  <thead>\n",
       "    <tr style=\"text-align: right;\">\n",
       "      <th></th>\n",
       "      <th>count</th>\n",
       "    </tr>\n",
       "    <tr>\n",
       "      <th>CrmCdDesc</th>\n",
       "      <th></th>\n",
       "    </tr>\n",
       "  </thead>\n",
       "  <tbody>\n",
       "    <tr>\n",
       "      <th>CRIMINAL HOMICIDE</th>\n",
       "      <td>1542</td>\n",
       "    </tr>\n",
       "  </tbody>\n",
       "</table>\n",
       "</div>"
      ],
      "text/plain": [
       "                   count\n",
       "CrmCdDesc               \n",
       "CRIMINAL HOMICIDE   1542"
      ]
     },
     "execution_count": 6,
     "metadata": {},
     "output_type": "execute_result"
    }
   ],
   "source": [
    "pd.set_option('display.max_columns', None)\n",
    "\n",
    "# search for crimes that have words associated with stolen vehicles\n",
    "data.loc[data.CrmCdDesc.str.contains('|'.join(['HOMICIDE']))][['CrmCdDesc']].value_counts().to_frame()"
   ]
  },
  {
   "cell_type": "markdown",
   "metadata": {},
   "source": [
    "### Subset the data to Part 1 crimes\n",
    "Before we subset the data, let's evaluate if the labels for the part 1 crimes are accuract, according the FBI national crime index"
   ]
  },
  {
   "cell_type": "markdown",
   "metadata": {},
   "source": [
    "### Data Cleaning\n",
    "Durring exploratory analysis, we found that the Part 1 crimes were not propertly labeled.  We will take the following steps to relable the data:\n",
    "- Create a list of the Part 1 crimes\n",
    "- Iterate through the `CrmCdDesc` column and determine if there is a match to the Part 1 crimes\n",
    "- Create a new column `Match` to indicate if the crime is a Part 1 crime\n",
    "- We will evaluate the `Match` column to ensure that the Part 1 crimes are properly labeled"
   ]
  },
  {
   "cell_type": "markdown",
   "metadata": {},
   "source": [
    "![Part 1 Crimes](/Users/danherman/Desktop/los_angeles_crime/images/part1crimes.png)"
   ]
  },
  {
   "cell_type": "code",
   "execution_count": 18,
   "metadata": {},
   "outputs": [],
   "source": [
    "# create a list of part 1 offenses\n",
    "part_1_offenses = [\n",
    "'Criminal Homicide',\n",
    "'Rape',\n",
    "'Robbery',\n",
    "'Aggravated Assault',  \n",
    "'Burglary',\n",
    "'theft', \n",
    "'Motor Vehicle Theft',\n",
    "'Arson',\n",
    "'Human Trafficking, Commercial Sex Acts',\n",
    "'Human Trafficking, Involuntary Servitude'\n",
    "]"
   ]
  },
  {
   "cell_type": "code",
   "execution_count": 19,
   "metadata": {},
   "outputs": [],
   "source": [
    "# convert all text strings above to upper case\n",
    "part_1_offenses = [x.upper() for x in part_1_offenses]"
   ]
  },
  {
   "cell_type": "code",
   "execution_count": 20,
   "metadata": {},
   "outputs": [
    {
     "data": {
      "text/plain": [
       "['CRIMINAL HOMICIDE',\n",
       " 'RAPE',\n",
       " 'ROBBERY',\n",
       " 'AGGRAVATED ASSAULT',\n",
       " 'BURGLARY',\n",
       " 'THEFT',\n",
       " 'MOTOR VEHICLE THEFT',\n",
       " 'ARSON',\n",
       " 'HUMAN TRAFFICKING, COMMERCIAL SEX ACTS',\n",
       " 'HUMAN TRAFFICKING, INVOLUNTARY SERVITUDE']"
      ]
     },
     "execution_count": 20,
     "metadata": {},
     "output_type": "execute_result"
    }
   ],
   "source": [
    "part_1_offenses"
   ]
  },
  {
   "cell_type": "code",
   "execution_count": 21,
   "metadata": {},
   "outputs": [
    {
     "name": "stderr",
     "output_type": "stream",
     "text": [
      "100%|██████████| 932140/932140 [00:12<00:00, 72088.06it/s]\n"
     ]
    }
   ],
   "source": [
    "from tqdm import tqdm\n",
    "tqdm.pandas()\n",
    "\n",
    "def match_offense(row):\n",
    "    for offense in part_1_offenses:\n",
    "        if offense in row['CrmCdDesc']:\n",
    "            return offense\n",
    "    return None\n",
    "\n",
    "data['new_label'] = data.progress_apply(match_offense, axis=1)"
   ]
  },
  {
   "cell_type": "code",
   "execution_count": 22,
   "metadata": {},
   "outputs": [],
   "source": [
    "part1 = data.loc[data['Part1-2']==1]"
   ]
  },
  {
   "cell_type": "code",
   "execution_count": 23,
   "metadata": {},
   "outputs": [
    {
     "data": {
      "text/html": [
       "<div>\n",
       "<style scoped>\n",
       "    .dataframe tbody tr th:only-of-type {\n",
       "        vertical-align: middle;\n",
       "    }\n",
       "\n",
       "    .dataframe tbody tr th {\n",
       "        vertical-align: top;\n",
       "    }\n",
       "\n",
       "    .dataframe thead th {\n",
       "        text-align: right;\n",
       "    }\n",
       "</style>\n",
       "<table border=\"1\" class=\"dataframe\">\n",
       "  <thead>\n",
       "    <tr style=\"text-align: right;\">\n",
       "      <th></th>\n",
       "      <th>CrmCdDesc</th>\n",
       "      <th>new_label</th>\n",
       "    </tr>\n",
       "  </thead>\n",
       "  <tbody>\n",
       "    <tr>\n",
       "      <th>441174</th>\n",
       "      <td>VEHICLE - STOLEN</td>\n",
       "      <td>None</td>\n",
       "    </tr>\n",
       "    <tr>\n",
       "      <th>225013</th>\n",
       "      <td>THEFT FROM MOTOR VEHICLE - PETTY ($950 &amp; UNDER)</td>\n",
       "      <td>THEFT</td>\n",
       "    </tr>\n",
       "    <tr>\n",
       "      <th>85182</th>\n",
       "      <td>BURGLARY FROM VEHICLE</td>\n",
       "      <td>BURGLARY</td>\n",
       "    </tr>\n",
       "    <tr>\n",
       "      <th>787813</th>\n",
       "      <td>THEFT FROM MOTOR VEHICLE - PETTY ($950 &amp; UNDER)</td>\n",
       "      <td>THEFT</td>\n",
       "    </tr>\n",
       "    <tr>\n",
       "      <th>665283</th>\n",
       "      <td>VEHICLE - STOLEN</td>\n",
       "      <td>None</td>\n",
       "    </tr>\n",
       "    <tr>\n",
       "      <th>329241</th>\n",
       "      <td>ROBBERY</td>\n",
       "      <td>ROBBERY</td>\n",
       "    </tr>\n",
       "    <tr>\n",
       "      <th>692567</th>\n",
       "      <td>THEFT PLAIN - PETTY ($950 &amp; UNDER)</td>\n",
       "      <td>THEFT</td>\n",
       "    </tr>\n",
       "    <tr>\n",
       "      <th>267315</th>\n",
       "      <td>BURGLARY</td>\n",
       "      <td>BURGLARY</td>\n",
       "    </tr>\n",
       "    <tr>\n",
       "      <th>142074</th>\n",
       "      <td>BRANDISH WEAPON</td>\n",
       "      <td>None</td>\n",
       "    </tr>\n",
       "    <tr>\n",
       "      <th>905604</th>\n",
       "      <td>SHOPLIFTING - PETTY THEFT ($950 &amp; UNDER)</td>\n",
       "      <td>THEFT</td>\n",
       "    </tr>\n",
       "    <tr>\n",
       "      <th>808808</th>\n",
       "      <td>SHOPLIFTING-GRAND THEFT ($950.01 &amp; OVER)</td>\n",
       "      <td>THEFT</td>\n",
       "    </tr>\n",
       "    <tr>\n",
       "      <th>1425</th>\n",
       "      <td>THEFT FROM MOTOR VEHICLE - GRAND ($950.01 AND ...</td>\n",
       "      <td>THEFT</td>\n",
       "    </tr>\n",
       "    <tr>\n",
       "      <th>385665</th>\n",
       "      <td>ASSAULT WITH DEADLY WEAPON, AGGRAVATED ASSAULT</td>\n",
       "      <td>AGGRAVATED ASSAULT</td>\n",
       "    </tr>\n",
       "    <tr>\n",
       "      <th>38747</th>\n",
       "      <td>VEHICLE - STOLEN</td>\n",
       "      <td>None</td>\n",
       "    </tr>\n",
       "    <tr>\n",
       "      <th>767161</th>\n",
       "      <td>VEHICLE - STOLEN</td>\n",
       "      <td>None</td>\n",
       "    </tr>\n",
       "    <tr>\n",
       "      <th>357238</th>\n",
       "      <td>VEHICLE - STOLEN</td>\n",
       "      <td>None</td>\n",
       "    </tr>\n",
       "    <tr>\n",
       "      <th>152544</th>\n",
       "      <td>VEHICLE - STOLEN</td>\n",
       "      <td>None</td>\n",
       "    </tr>\n",
       "    <tr>\n",
       "      <th>179880</th>\n",
       "      <td>BURGLARY FROM VEHICLE</td>\n",
       "      <td>BURGLARY</td>\n",
       "    </tr>\n",
       "    <tr>\n",
       "      <th>638910</th>\n",
       "      <td>ROBBERY</td>\n",
       "      <td>ROBBERY</td>\n",
       "    </tr>\n",
       "    <tr>\n",
       "      <th>43757</th>\n",
       "      <td>SHOPLIFTING - PETTY THEFT ($950 &amp; UNDER)</td>\n",
       "      <td>THEFT</td>\n",
       "    </tr>\n",
       "  </tbody>\n",
       "</table>\n",
       "</div>"
      ],
      "text/plain": [
       "                                                CrmCdDesc           new_label\n",
       "441174                                   VEHICLE - STOLEN                None\n",
       "225013    THEFT FROM MOTOR VEHICLE - PETTY ($950 & UNDER)               THEFT\n",
       "85182                               BURGLARY FROM VEHICLE            BURGLARY\n",
       "787813    THEFT FROM MOTOR VEHICLE - PETTY ($950 & UNDER)               THEFT\n",
       "665283                                   VEHICLE - STOLEN                None\n",
       "329241                                            ROBBERY             ROBBERY\n",
       "692567                 THEFT PLAIN - PETTY ($950 & UNDER)               THEFT\n",
       "267315                                           BURGLARY            BURGLARY\n",
       "142074                                    BRANDISH WEAPON                None\n",
       "905604           SHOPLIFTING - PETTY THEFT ($950 & UNDER)               THEFT\n",
       "808808           SHOPLIFTING-GRAND THEFT ($950.01 & OVER)               THEFT\n",
       "1425    THEFT FROM MOTOR VEHICLE - GRAND ($950.01 AND ...               THEFT\n",
       "385665     ASSAULT WITH DEADLY WEAPON, AGGRAVATED ASSAULT  AGGRAVATED ASSAULT\n",
       "38747                                    VEHICLE - STOLEN                None\n",
       "767161                                   VEHICLE - STOLEN                None\n",
       "357238                                   VEHICLE - STOLEN                None\n",
       "152544                                   VEHICLE - STOLEN                None\n",
       "179880                              BURGLARY FROM VEHICLE            BURGLARY\n",
       "638910                                            ROBBERY             ROBBERY\n",
       "43757            SHOPLIFTING - PETTY THEFT ($950 & UNDER)               THEFT"
      ]
     },
     "execution_count": 23,
     "metadata": {},
     "output_type": "execute_result"
    }
   ],
   "source": [
    "part1.loc[:,['CrmCdDesc', 'new_label']].sample(20)"
   ]
  },
  {
   "cell_type": "code",
   "execution_count": 24,
   "metadata": {},
   "outputs": [
    {
     "data": {
      "text/plain": [
       "new_label\n",
       "THEFT                 183300\n",
       "None                  137023\n",
       "BURGLARY              119115\n",
       "AGGRAVATED ASSAULT     65826\n",
       "ROBBERY                36453\n",
       "RAPE                    3983\n",
       "ARSON                   2515\n",
       "CRIMINAL HOMICIDE       1542\n",
       "Name: count, dtype: int64"
      ]
     },
     "execution_count": 24,
     "metadata": {},
     "output_type": "execute_result"
    }
   ],
   "source": [
    "# show value counts, include missing values\n",
    "part1['new_label'].value_counts(dropna=False)"
   ]
  },
  {
   "cell_type": "code",
   "execution_count": 27,
   "metadata": {},
   "outputs": [
    {
     "data": {
      "text/plain": [
       "CrmCdDesc\n",
       "VEHICLE - STOLEN                                            100225\n",
       "BRANDISH WEAPON                                              14362\n",
       "BIKE - STOLEN                                                 7499\n",
       "VEHICLE - ATTEMPT STOLEN                                      3750\n",
       "PICKPOCKET                                                    2784\n",
       "VEHICLE, STOLEN - OTHER (MOTORIZED SCOOTERS, BIKES, ETC)      2140\n",
       "SHOTS FIRED AT INHABITED DWELLING                             1621\n",
       "SEXUAL PENETRATION W/FOREIGN OBJECT                           1293\n",
       "ASSAULT WITH DEADLY WEAPON ON POLICE OFFICER                  1060\n",
       "ORAL COPULATION                                                697\n",
       "SODOMY/SEXUAL CONTACT B/W PENIS OF ONE PERS TO ANUS OTH        522\n",
       "SHOTS FIRED AT MOVING VEHICLE, TRAIN OR AIRCRAFT               467\n",
       "DRIVING WITHOUT OWNER CONSENT (DWOC)                           167\n",
       "BOAT - STOLEN                                                  132\n",
       "PURSE SNATCHING                                                107\n",
       "SHOPLIFTING - ATTEMPT                                          107\n",
       "DRUNK ROLL                                                      31\n",
       "TILL TAP - PETTY ($950 & UNDER)                                 24\n",
       "PURSE SNATCHING - ATTEMPT                                       13\n",
       "MANSLAUGHTER, NEGLIGENT                                          8\n",
       "PICKPOCKET, ATTEMPT                                              7\n",
       "BIKE - ATTEMPTED STOLEN                                          6\n",
       "TRAIN WRECKING                                                   1\n",
       "Name: count, dtype: int64"
      ]
     },
     "execution_count": 27,
     "metadata": {},
     "output_type": "execute_result"
    }
   ],
   "source": [
    "part1.loc[part1['new_label'].isnull()]['CrmCdDesc'].value_counts()"
   ]
  },
  {
   "cell_type": "code",
   "execution_count": 28,
   "metadata": {},
   "outputs": [],
   "source": [
    "label_map = {'SODOMY':'RAPE'}"
   ]
  },
  {
   "cell_type": "markdown",
   "metadata": {},
   "source": [
    "### Look for different word associations for each part 1 crimes\n",
    "- gun\n",
    "- firearm\n",
    "- pistol\n",
    "- rifle\n",
    "- shotgun\n",
    "- revolver\n",
    "- simulated gun\n",
    "- toy gun\n"
   ]
  },
  {
   "cell_type": "code",
   "execution_count": null,
   "metadata": {},
   "outputs": [],
   "source": [
    "# use progress bar to show how long it takes to iterate through large dataset\n",
    "from tqdm import tqdm\n",
    "tqdm.pandas()\n",
    "\n",
    "def match_offense(desc):\n",
    "    words = desc.split()\n",
    "    for word in words:\n",
    "        if any(offense.lower() in word.lower() for offense in part_1_offenses):\n",
    "            return True\n",
    "    return False\n",
    "\n",
    "data['Match'] = data['CrmCdDesc'].progress_apply(match_offense)"
   ]
  },
  {
   "cell_type": "code",
   "execution_count": null,
   "metadata": {},
   "outputs": [],
   "source": [
    "# sanity check the algorithm and the true labels\n",
    "pd.set_option('display.max_rows', 100)\n",
    "\n",
    "data.loc[\n",
    "    (data['Match'] == False)& \n",
    "    (data['Part1-2'] == 1),\n",
    "    ['CrmCdDesc', 'Part1-2','Match']\n",
    "         ].value_counts().to_frame().reset_index().rename(columns={0: 'Count'}).sort_values(by='count', ascending=False)\n",
    "\n"
   ]
  },
  {
   "cell_type": "markdown",
   "metadata": {},
   "source": [
    "### Look at the type of locations crimes are committed"
   ]
  },
  {
   "cell_type": "code",
   "execution_count": null,
   "metadata": {},
   "outputs": [],
   "source": [
    "pd.set_option('display.max_rows', None)\n",
    "\n",
    "(data.PremisDesc.value_counts()[3:]/len(data)).shape"
   ]
  },
  {
   "cell_type": "markdown",
   "metadata": {},
   "source": [
    "- There are 306 unique types of places where Part 1 crimes are committed\n",
    "- Top 3 Premis Account for 54% of crimes\n",
    "- After that, there are 300 unique premises that account for the remaining 46% of crimes\n",
    "\n"
   ]
  },
  {
   "cell_type": "markdown",
   "metadata": {},
   "source": [
    "### Look at the Weapon used in the crime"
   ]
  },
  {
   "cell_type": "code",
   "execution_count": null,
   "metadata": {},
   "outputs": [],
   "source": [
    "data.WeaponDesc.value_counts()"
   ]
  },
  {
   "cell_type": "markdown",
   "metadata": {},
   "source": [
    "- There are 79 unique values in the Weapon Description column "
   ]
  },
  {
   "cell_type": "markdown",
   "metadata": {},
   "source": [
    "### Feature Engineering"
   ]
  },
  {
   "cell_type": "code",
   "execution_count": null,
   "metadata": {},
   "outputs": [],
   "source": [
    "\n",
    "# extract the day month and year from DATEOCC\n",
    "data['Year'] = data['DATEOCC'].dt.year\n",
    "data['Month'] = data['DATEOCC'].dt.month\n",
    "data['Day'] = data['DATEOCC'].dt.day"
   ]
  },
  {
   "cell_type": "markdown",
   "metadata": {},
   "source": [
    "### Analyze the Data"
   ]
  },
  {
   "cell_type": "code",
   "execution_count": null,
   "metadata": {},
   "outputs": [],
   "source": [
    "data.columns"
   ]
  },
  {
   "cell_type": "code",
   "execution_count": null,
   "metadata": {},
   "outputs": [],
   "source": [
    "len(list(data.loc[data['Part1-2']==1].CrmCdDesc.unique()))"
   ]
  },
  {
   "cell_type": "code",
   "execution_count": null,
   "metadata": {},
   "outputs": [],
   "source": [
    "pd.set_option('display.max_columns', 500)\n",
    "\n",
    "data.loc[data['Part1-2']==1].CrmCd.nunique()"
   ]
  },
  {
   "cell_type": "markdown",
   "metadata": {},
   "source": [
    "### Create an Interactive Chloropleth Map\n",
    "These maps are quite challenging to build and there is minimal documentation available.<br>\n",
    "I found a good tutorial that can serve as a companion, reviewing 3 different types of maps<br>\n",
    "[Interactive Maps Tutorial](https://medium.com/geekculture/three-ways-to-plot-choropleth-map-using-python-f53799a3e623) <br>\n",
    "\n",
    "We will use the Folium Python package.  There are 2 steps involved in building this map \n",
    "<br>\n",
    "1.  Acquire the geojson data -  This data serves as the boundaries for the map and is an essential layer, where the data in the geojson file, must match the data in the dataset in the `AREANAME` column.  You can create geojson data, which is quite challenging.  Or you can look to get the file from an existing project.  If you're working on a government dataset, you can find the appropriate geojson data on GitHub <br><br>\n",
    "\n",
    "2.  Colorscale effect - Create a dataframe with 2 columns, namely `AREANAME` and count of crimes in the region<br>\n",
    "*Once again - the `AREANAME` must match the geojson data for the map to render correctly*<br>\n",
    "<br>\n",
    "Geojson data is widely available on GitHub.<br>\n"
   ]
  },
  {
   "cell_type": "markdown",
   "metadata": {},
   "source": [
    "### We will subset the data first\n",
    "This step is fairly simple"
   ]
  },
  {
   "cell_type": "code",
   "execution_count": null,
   "metadata": {},
   "outputs": [],
   "source": [
    "# use groupby to agregate the count of crimes in each of the 21 police districts, \n",
    "area_names = data.groupby('AREANAME').agg({'AREANAME': 'count'}).rename(columns={'AREANAME':'Count'}).reset_index()\n",
    "\n",
    "# rename columns for interpretability\n",
    "area_names = area_names.rename(columns={'AREANAME':'name','Count':'count'})\n",
    "\n",
    "# change value in index 8 column 0 to North Hollywood and index 18 to West Los Angeles\n",
    "area_names.iloc[8,0] = 'North Hollywood'\n",
    "area_names.iloc[18,0] = 'West Los Angeles'\n",
    "\n",
    "# show the dataframe confirming the correct format and data structure\n",
    "area_names"
   ]
  },
  {
   "cell_type": "markdown",
   "metadata": {},
   "source": [
    "### Get the geojason file"
   ]
  },
  {
   "cell_type": "code",
   "execution_count": null,
   "metadata": {},
   "outputs": [],
   "source": [
    "#Import modules for acquiring geojson\n",
    "from urllib.request import urlopen\n",
    "import json\n",
    "\n",
    "#Import geojson from Github\n",
    "with urlopen('https://raw.githubusercontent.com/sidneykung/LA_crime_forecasting/main/data/LAPD_Divisions.json') as response:\n",
    "    lapd_divisions = json.load(response)  #Collect geojson data from Github"
   ]
  },
  {
   "cell_type": "code",
   "execution_count": null,
   "metadata": {},
   "outputs": [],
   "source": [
    "#import folium\n",
    "import folium\n",
    "\n",
    "#Creaate a map object for choropleth map\n",
    "#Set location to your location of interest (latitude and longitude )\n",
    "map0 = folium.Map(location=[34.0549,-118.2426], zoom_start=10)\n",
    "\n",
    "#Create choropleth map object with key on TOWNNAME\n",
    "folium.Choropleth(geo_data = lapd_divisions,#Assign geo_data to your geojson file\n",
    "    name = \"choropleth\",\n",
    "    data = area_names,#Assign dataset of interest\n",
    "    columns = ['name','count'],#Assign columns in the dataset for plotting\n",
    "    key_on = 'feature.properties.name',#Assign the key that geojson uses to connect with dataset\n",
    "    fill_color = 'YlOrRd',\n",
    "    fill_opacity = 0.7,\n",
    "    line_opacity = 0.5,\n",
    "    legend_name = 'LAPD Division').add_to(map0)\n",
    "\n",
    "#Create style_function\n",
    "style_function = lambda x: {'fillColor': '#ffffff', \n",
    "                            'color':'#000000', \n",
    "                            'fillOpacity': 0.1, \n",
    "                            'weight': 0.1}\n",
    "\n",
    "#Create highlight_function\n",
    "highlight_function = lambda x: {'fillColor': '#000000', \n",
    "                                'color':'#000000', \n",
    "                                'fillOpacity': 0.50, \n",
    "                                'weight': 0.1}\n",
    "\n",
    "#Create popup tooltip object\n",
    "NIL = folium.features.GeoJson(\n",
    "    lapd_divisions,\n",
    "    style_function=style_function, \n",
    "    control=False,\n",
    "    highlight_function=highlight_function, \n",
    "    tooltip=folium.features.GeoJsonTooltip(\n",
    "        fields=['name'],\n",
    "        aliases=['LAPD Division'],\n",
    "        style=(\"background-color: white; color: #333333; font-family: arial; font-size: 12px; padding: 10px;\")))\n",
    "\n",
    "#Add tooltip object to the map\n",
    "map0.add_child(NIL)\n",
    "map0.keep_in_front(NIL)\n",
    "folium.LayerControl().add_to(map0)\n",
    "\n",
    "# load the map\n",
    "map0"
   ]
  },
  {
   "cell_type": "code",
   "execution_count": null,
   "metadata": {},
   "outputs": [],
   "source": [
    "# save the html to data folder\n",
    "map0.save('../data/choropleth_map.html')"
   ]
  },
  {
   "cell_type": "markdown",
   "metadata": {},
   "source": [
    "___"
   ]
  },
  {
   "cell_type": "markdown",
   "metadata": {},
   "source": [
    "### We will analyze the data in 3 different ways\n",
    "1.  Analyze Part 1 crimes - 372,823 crimes committed\n",
    "2.  Analyze Part 2 crimes - 559,317 crimes committed\n",
    "3.  Analyze all crimes - 932,140 crimes committed\n",
    "\n",
    "### later on we will compare data to other major cities (NYC & Chicago)"
   ]
  },
  {
   "cell_type": "code",
   "execution_count": null,
   "metadata": {},
   "outputs": [],
   "source": [
    "# show min max DATEOCC in tupel\n",
    "print('Dataset Date Range:')\n",
    "display(data['DATEOCC'].agg(['min', 'max']))\n"
   ]
  },
  {
   "cell_type": "code",
   "execution_count": null,
   "metadata": {},
   "outputs": [],
   "source": [
    "# percent of crimes that are Part 1\n",
    "data.loc[\n",
    "    (data['Part1-2'] == 1)\n",
    "].shape[0]/len(data)"
   ]
  },
  {
   "cell_type": "code",
   "execution_count": null,
   "metadata": {},
   "outputs": [],
   "source": [
    "# percent of crimes that are Part 2\n",
    "data.loc[\n",
    "    (data['Part1-2'] == 2)\n",
    "].shape[0]/len(data)"
   ]
  },
  {
   "cell_type": "code",
   "execution_count": null,
   "metadata": {},
   "outputs": [],
   "source": [
    "# Subset the data by 2 criteria: \n",
    "data = data.loc[\n",
    "    (data['Year'] != 2024)& # 1 remove the 2024 year, as the data is incomplete \n",
    "    (data['Part1-2']  ==  2) # 2 show crimes in part 1 or 2\n",
    "                ]\n",
    "\n",
    "print('There are',data.shape[0],'observations in the subset')"
   ]
  },
  {
   "cell_type": "code",
   "execution_count": null,
   "metadata": {},
   "outputs": [],
   "source": [
    "print('The top 25 crimes committed represent {:.2%} of the dataset'.format((data['CrmCdDesc'].value_counts()[:25]/len(data)).sum()))"
   ]
  },
  {
   "cell_type": "markdown",
   "metadata": {},
   "source": [
    "### Plot the top 25 crimes from 2020 - 2023\n"
   ]
  },
  {
   "cell_type": "code",
   "execution_count": null,
   "metadata": {},
   "outputs": [],
   "source": [
    "# set white background\n",
    "sns.set_style('white')\n",
    "\n",
    "# Get the top 25 crime descriptions\n",
    "top_25 = data['CrmCdDesc'].value_counts().index[:25]\n",
    "\n",
    "# Filter the data to only include rows with the top 25 crime descriptions\n",
    "top_25_data = data[data['CrmCdDesc'].isin(top_25)]\n",
    "\n",
    "# Create the bar plot\n",
    "plt.figure(figsize=(25, 15))\n",
    "sns.countplot(data=top_25_data, x='CrmCdDesc', hue='Year', palette='ch:s=-.2,r=.6', order=top_25)\n",
    "\n",
    "# Get current axes\n",
    "ax = plt.gca()\n",
    "\n",
    "# Rotate and align x-axis labels for readability\n",
    "for item in ax.get_xticklabels():\n",
    "    item.set_rotation(45)\n",
    "    item.set_ha('right')\n",
    "\n",
    "# remove count and x label\n",
    "plt.ylabel('')\n",
    "plt.xlabel('')\n",
    "\n",
    "# Show the plot\n",
    "plt.show()"
   ]
  }
 ],
 "metadata": {
  "kernelspec": {
   "display_name": "dev",
   "language": "python",
   "name": "python3"
  },
  "language_info": {
   "codemirror_mode": {
    "name": "ipython",
    "version": 3
   },
   "file_extension": ".py",
   "mimetype": "text/x-python",
   "name": "python",
   "nbconvert_exporter": "python",
   "pygments_lexer": "ipython3",
   "version": "3.11.8"
  }
 },
 "nbformat": 4,
 "nbformat_minor": 2
}
