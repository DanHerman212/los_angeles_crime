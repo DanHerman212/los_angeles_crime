{
 "cells": [
  {
   "cell_type": "code",
   "execution_count": 3,
   "metadata": {},
   "outputs": [
    {
     "data": {
      "text/plain": [
       "(550307, 29)"
      ]
     },
     "execution_count": 3,
     "metadata": {},
     "output_type": "execute_result"
    }
   ],
   "source": [
    "import pandas as pd\n",
    "import numpy as np\n",
    "import matplotlib.pyplot as plt\n",
    "import seaborn as sns\n",
    "import warnings\n",
    "warnings.filterwarnings('ignore')\n",
    "\n",
    "# Load the data\n",
    "data = pd.read_csv('../data/crime_data_cleaned.csv')\n",
    "\n",
    "data.shape"
   ]
  },
  {
   "cell_type": "markdown",
   "metadata": {},
   "source": [
    "### Building a Data Model\n",
    "We want to build a model that will serve to influence a metric. The metric we are interested in is the clearance rate of crimes. The clearance rate is the percentage of crimes that are \"solved\" or \"cleared\" by the police. A crime is considered cleared when an arrest is made, when a suspect is charged, or when the case is closed in some other way. The clearance rate is calculated by dividing the number of crimes that are cleared by the total number of crimes recorded.\n"
   ]
  },
  {
   "cell_type": "markdown",
   "metadata": {},
   "source": [
    "\n",
    "\n",
    "<div style=\"text-align:center\">\n",
    "    <img src=\"/Users/danherman/Desktop/los_angeles_crime/images/clearance_rate.png\" alt=\"Clearance Rate\" width=\"900\" height=\"600\">\n",
    "</div>\n",
    "\n",
    "\n",
    "\n"
   ]
  },
  {
   "cell_type": "code",
   "execution_count": 9,
   "metadata": {},
   "outputs": [
    {
     "data": {
      "text/html": [
       "<div>\n",
       "<style scoped>\n",
       "    .dataframe tbody tr th:only-of-type {\n",
       "        vertical-align: middle;\n",
       "    }\n",
       "\n",
       "    .dataframe tbody tr th {\n",
       "        vertical-align: top;\n",
       "    }\n",
       "\n",
       "    .dataframe thead th {\n",
       "        text-align: right;\n",
       "    }\n",
       "</style>\n",
       "<table border=\"1\" class=\"dataframe\">\n",
       "  <thead>\n",
       "    <tr style=\"text-align: right;\">\n",
       "      <th></th>\n",
       "      <th>crime_category</th>\n",
       "      <th>clearance_rate</th>\n",
       "    </tr>\n",
       "  </thead>\n",
       "  <tbody>\n",
       "    <tr>\n",
       "      <th>3</th>\n",
       "      <td>CRIMINAL HOMICIDE</td>\n",
       "      <td>0.581064</td>\n",
       "    </tr>\n",
       "    <tr>\n",
       "      <th>0</th>\n",
       "      <td>AGGRAVATED ASSAULT</td>\n",
       "      <td>0.232817</td>\n",
       "    </tr>\n",
       "    <tr>\n",
       "      <th>7</th>\n",
       "      <td>ROBBERY</td>\n",
       "      <td>0.196637</td>\n",
       "    </tr>\n",
       "    <tr>\n",
       "      <th>4</th>\n",
       "      <td>HUMAN TRAFFICKING</td>\n",
       "      <td>0.163082</td>\n",
       "    </tr>\n",
       "    <tr>\n",
       "      <th>6</th>\n",
       "      <td>RAPE</td>\n",
       "      <td>0.110393</td>\n",
       "    </tr>\n",
       "    <tr>\n",
       "      <th>1</th>\n",
       "      <td>ARSON</td>\n",
       "      <td>0.092247</td>\n",
       "    </tr>\n",
       "    <tr>\n",
       "      <th>2</th>\n",
       "      <td>BURGLARY</td>\n",
       "      <td>0.083368</td>\n",
       "    </tr>\n",
       "    <tr>\n",
       "      <th>8</th>\n",
       "      <td>THEFT</td>\n",
       "      <td>0.033568</td>\n",
       "    </tr>\n",
       "    <tr>\n",
       "      <th>5</th>\n",
       "      <td>MOTOR VEHICLE THEFT</td>\n",
       "      <td>0.029930</td>\n",
       "    </tr>\n",
       "  </tbody>\n",
       "</table>\n",
       "</div>"
      ],
      "text/plain": [
       "        crime_category  clearance_rate\n",
       "3    CRIMINAL HOMICIDE        0.581064\n",
       "0   AGGRAVATED ASSAULT        0.232817\n",
       "7              ROBBERY        0.196637\n",
       "4    HUMAN TRAFFICKING        0.163082\n",
       "6                 RAPE        0.110393\n",
       "1                ARSON        0.092247\n",
       "2             BURGLARY        0.083368\n",
       "8                THEFT        0.033568\n",
       "5  MOTOR VEHICLE THEFT        0.029930"
      ]
     },
     "execution_count": 9,
     "metadata": {},
     "output_type": "execute_result"
    }
   ],
   "source": [
    "# calculate the clearance rate for each crime category\n",
    "clearance_rate = data.loc[ \n",
    "                          (data['Status']=='AA')| # set boolean mask for AA (Adult Arrest) using OR operator\n",
    "                          (data['Status']=='JA') # set boolean mask for JA (Juvenile Arrest)\n",
    "                          ]['crime_category'].value_counts()/data['crime_category'].value_counts().round(2) \n",
    "                        # calculate the clearance rate for each crime category counting Arrests and dividing by total crimes\n",
    "\n",
    "clearance_rate.to_frame().reset_index().rename(columns={'index':'crime_category','count':'clearance_rate'}).sort_values(by='clearance_rate',ascending=False)"
   ]
  },
  {
   "cell_type": "markdown",
   "metadata": {},
   "source": [
    "### Plot the data"
   ]
  },
  {
   "cell_type": "code",
   "execution_count": null,
   "metadata": {},
   "outputs": [],
   "source": [
    "# set run command for font and font weight\n",
    "plt.rcParams['font.size'] = 12\n",
    "plt.rcParams['font.weight'] = 'bold'\n",
    "\n",
    "# set the color palette\n",
    "palette = sns.color_palette(\"coolwarm\", len(clearance_rate))\n",
    "\n",
    "# create the plot\n",
    "fig, ax = plt.subplots(figsize=(10, 6))\n",
    "sns.barplot(x=clearance_rate.index, y=clearance_rate.values, ax=ax, palette=palette)\n",
    "plt.title('Clearance Rate by Crime Category', fontsize=16)\n",
    "plt.xlabel('Crime Category')\n",
    "plt.ylabel('Clearance Rate')\n",
    "\n",
    "# Rotate and align x-axis labels for readability\n",
    "for item in ax.get_xticklabels():\n",
    "    item.set_rotation(45)\n",
    "    item.set_ha('right')\n",
    "\n",
    "plt.show()\n",
    "\n"
   ]
  },
  {
   "cell_type": "markdown",
   "metadata": {},
   "source": [
    "### Create the target variable\n",
    "The target variable is arrest. We will create a binary variable that indicates whether an arrest was made or not. We will use the 'Arrest' column to create this variable. We will replace the 'True' values with 1 and the 'False' values with 0. We will then calculate the clearance rate by dividing the number of crimes that were cleared by the total number of crimes recorded.\n"
   ]
  },
  {
   "cell_type": "code",
   "execution_count": 30,
   "metadata": {},
   "outputs": [
    {
     "data": {
      "text/plain": [
       "target\n",
       "0    505331\n",
       "1     44976\n",
       "Name: count, dtype: int64"
      ]
     },
     "metadata": {},
     "output_type": "display_data"
    },
    {
     "data": {
      "image/png": "[encoded data removed]",
      "text/plain": [
       "<Figure size 600x600 with 1 Axes>"
      ]
     },
     "metadata": {},
     "output_type": "display_data"
    }
   ],
   "source": [
    "# create target variable - If Arrested Adult Arrest (AA) or Juvenile Arrest (JA) = 1, else 0\n",
    "data['target'] = data['Status'].apply(lambda x: 1 if x in ['AA', 'JA'] else 0)\n",
    "\n",
    "display(data['target'].value_counts())\n",
    "data.target.value_counts().plot(kind='pie', autopct='%1.1f%%', figsize=(6, 6), colors=['#ff9999','#66b3ff']);"
   ]
  },
  {
   "cell_type": "markdown",
   "metadata": {},
   "source": [
    "### There is a huge class imblance.  There are 55,000 observations of arrest, compared to 505,331 observations of no arrest.  This is a class imbalance of 1:10.  We will need to address this in our model."
   ]
  },
  {
   "cell_type": "markdown",
   "metadata": {},
   "source": [
    "### We can go deeper into crimes and look at them individually, by severity."
   ]
  },
  {
   "cell_type": "markdown",
   "metadata": {},
   "source": [
    "### First we can look into Homicide"
   ]
  },
  {
   "cell_type": "code",
   "execution_count": 21,
   "metadata": {},
   "outputs": [
    {
     "data": {
      "text/plain": [
       "target\n",
       "1    896\n",
       "0    646\n",
       "Name: count, dtype: int64"
      ]
     },
     "execution_count": 21,
     "metadata": {},
     "output_type": "execute_result"
    }
   ],
   "source": [
    "# isolate arrests made for Homicide\n",
    "data.query('crime_category == \"CRIMINAL HOMICIDE\"')['target'].value_counts()"
   ]
  },
  {
   "cell_type": "code",
   "execution_count": 23,
   "metadata": {},
   "outputs": [],
   "source": [
    "# create a dataframe for criminal homicide \n",
    "homicide = data.query('crime_category == \"CRIMINAL HOMICIDE\"')"
   ]
  },
  {
   "cell_type": "code",
   "execution_count": 25,
   "metadata": {},
   "outputs": [
    {
     "data": {
      "text/plain": [
       "Index(['DR_NO', 'DateRptd', 'DATEOCC', 'TIMEOCC', 'AREA', 'AREANAME',\n",
       "       'RptDistNo', 'Part1-2', 'CrmCd', 'CrmCdDesc', 'Mocodes', 'VictAge',\n",
       "       'VictSex', 'VictDescent', 'PremisCd', 'PremisDesc', 'WeaponUsedCd',\n",
       "       'WeaponDesc', 'Status', 'StatusDesc', 'CrmCd1', 'CrmCd2', 'CrmCd3',\n",
       "       'CrmCd4', 'LOCATION', 'CrossStreet', 'LAT', 'LON', 'crime_category',\n",
       "       'target'],\n",
       "      dtype='object')"
      ]
     },
     "execution_count": 25,
     "metadata": {},
     "output_type": "execute_result"
    }
   ],
   "source": [
    "homicide.columns"
   ]
  },
  {
   "cell_type": "code",
   "execution_count": 31,
   "metadata": {},
   "outputs": [
    {
     "data": {
      "text/html": [
       "<div>\n",
       "<style scoped>\n",
       "    .dataframe tbody tr th:only-of-type {\n",
       "        vertical-align: middle;\n",
       "    }\n",
       "\n",
       "    .dataframe tbody tr th {\n",
       "        vertical-align: top;\n",
       "    }\n",
       "\n",
       "    .dataframe thead th {\n",
       "        text-align: right;\n",
       "    }\n",
       "</style>\n",
       "<table border=\"1\" class=\"dataframe\">\n",
       "  <thead>\n",
       "    <tr style=\"text-align: right;\">\n",
       "      <th></th>\n",
       "      <th>DateRptd</th>\n",
       "      <th>DATEOCC</th>\n",
       "      <th>TIMEOCC</th>\n",
       "      <th>AREANAME</th>\n",
       "      <th>CrmCdDesc</th>\n",
       "      <th>VictAge</th>\n",
       "      <th>VictSex</th>\n",
       "      <th>VictDescent</th>\n",
       "      <th>PremisDesc</th>\n",
       "      <th>WeaponDesc</th>\n",
       "      <th>Status</th>\n",
       "      <th>StatusDesc</th>\n",
       "      <th>crime_category</th>\n",
       "      <th>target</th>\n",
       "    </tr>\n",
       "  </thead>\n",
       "  <tbody>\n",
       "    <tr>\n",
       "      <th>2317</th>\n",
       "      <td>2020-05-16</td>\n",
       "      <td>2020-05-15</td>\n",
       "      <td>1945</td>\n",
       "      <td>Central</td>\n",
       "      <td>CRIMINAL HOMICIDE</td>\n",
       "      <td>57</td>\n",
       "      <td>M</td>\n",
       "      <td>H</td>\n",
       "      <td>STAIRWELL*</td>\n",
       "      <td>UNKNOWN TYPE CUTTING INSTRUMENT</td>\n",
       "      <td>AA</td>\n",
       "      <td>Adult Arrest</td>\n",
       "      <td>CRIMINAL HOMICIDE</td>\n",
       "      <td>1</td>\n",
       "    </tr>\n",
       "    <tr>\n",
       "      <th>3181</th>\n",
       "      <td>2020-07-24</td>\n",
       "      <td>2020-07-23</td>\n",
       "      <td>2145</td>\n",
       "      <td>Newton</td>\n",
       "      <td>CRIMINAL HOMICIDE</td>\n",
       "      <td>31</td>\n",
       "      <td>M</td>\n",
       "      <td>A</td>\n",
       "      <td>SIDEWALK</td>\n",
       "      <td>UNKNOWN FIREARM</td>\n",
       "      <td>IC</td>\n",
       "      <td>Invest Cont</td>\n",
       "      <td>CRIMINAL HOMICIDE</td>\n",
       "      <td>0</td>\n",
       "    </tr>\n",
       "    <tr>\n",
       "      <th>3961</th>\n",
       "      <td>2020-06-17</td>\n",
       "      <td>2020-06-17</td>\n",
       "      <td>50</td>\n",
       "      <td>77th Street</td>\n",
       "      <td>CRIMINAL HOMICIDE</td>\n",
       "      <td>19</td>\n",
       "      <td>M</td>\n",
       "      <td>B</td>\n",
       "      <td>STREET</td>\n",
       "      <td>UNKNOWN FIREARM</td>\n",
       "      <td>AA</td>\n",
       "      <td>Adult Arrest</td>\n",
       "      <td>CRIMINAL HOMICIDE</td>\n",
       "      <td>1</td>\n",
       "    </tr>\n",
       "    <tr>\n",
       "      <th>3989</th>\n",
       "      <td>2020-09-12</td>\n",
       "      <td>2020-09-12</td>\n",
       "      <td>1200</td>\n",
       "      <td>Northeast</td>\n",
       "      <td>CRIMINAL HOMICIDE</td>\n",
       "      <td>37</td>\n",
       "      <td>M</td>\n",
       "      <td>W</td>\n",
       "      <td>STREET</td>\n",
       "      <td>BLUNT INSTRUMENT</td>\n",
       "      <td>AO</td>\n",
       "      <td>Adult Other</td>\n",
       "      <td>CRIMINAL HOMICIDE</td>\n",
       "      <td>0</td>\n",
       "    </tr>\n",
       "    <tr>\n",
       "      <th>4284</th>\n",
       "      <td>2020-11-15</td>\n",
       "      <td>2020-11-15</td>\n",
       "      <td>150</td>\n",
       "      <td>Newton</td>\n",
       "      <td>CRIMINAL HOMICIDE</td>\n",
       "      <td>30</td>\n",
       "      <td>F</td>\n",
       "      <td>B</td>\n",
       "      <td>SIDEWALK</td>\n",
       "      <td>UNKNOWN FIREARM</td>\n",
       "      <td>AA</td>\n",
       "      <td>Adult Arrest</td>\n",
       "      <td>CRIMINAL HOMICIDE</td>\n",
       "      <td>1</td>\n",
       "    </tr>\n",
       "    <tr>\n",
       "      <th>...</th>\n",
       "      <td>...</td>\n",
       "      <td>...</td>\n",
       "      <td>...</td>\n",
       "      <td>...</td>\n",
       "      <td>...</td>\n",
       "      <td>...</td>\n",
       "      <td>...</td>\n",
       "      <td>...</td>\n",
       "      <td>...</td>\n",
       "      <td>...</td>\n",
       "      <td>...</td>\n",
       "      <td>...</td>\n",
       "      <td>...</td>\n",
       "      <td>...</td>\n",
       "    </tr>\n",
       "    <tr>\n",
       "      <th>547762</th>\n",
       "      <td>2024-03-12</td>\n",
       "      <td>2024-03-12</td>\n",
       "      <td>1</td>\n",
       "      <td>Southeast</td>\n",
       "      <td>CRIMINAL HOMICIDE</td>\n",
       "      <td>20</td>\n",
       "      <td>F</td>\n",
       "      <td>H</td>\n",
       "      <td>MOBILE HOME/TRAILERS/CONSTRUCTION TRAILERS/RV'...</td>\n",
       "      <td>DIRK/DAGGER</td>\n",
       "      <td>IC</td>\n",
       "      <td>Invest Cont</td>\n",
       "      <td>CRIMINAL HOMICIDE</td>\n",
       "      <td>0</td>\n",
       "    </tr>\n",
       "    <tr>\n",
       "      <th>547936</th>\n",
       "      <td>2024-01-08</td>\n",
       "      <td>2024-01-08</td>\n",
       "      <td>536</td>\n",
       "      <td>Wilshire</td>\n",
       "      <td>CRIMINAL HOMICIDE</td>\n",
       "      <td>44</td>\n",
       "      <td>M</td>\n",
       "      <td>H</td>\n",
       "      <td>OTHER BUSINESS</td>\n",
       "      <td>SCISSORS</td>\n",
       "      <td>AA</td>\n",
       "      <td>Adult Arrest</td>\n",
       "      <td>CRIMINAL HOMICIDE</td>\n",
       "      <td>1</td>\n",
       "    </tr>\n",
       "    <tr>\n",
       "      <th>548250</th>\n",
       "      <td>2024-01-15</td>\n",
       "      <td>2024-01-15</td>\n",
       "      <td>1340</td>\n",
       "      <td>Newton</td>\n",
       "      <td>CRIMINAL HOMICIDE</td>\n",
       "      <td>22</td>\n",
       "      <td>M</td>\n",
       "      <td>H</td>\n",
       "      <td>SHOPPING MALL (COMMON AREA)</td>\n",
       "      <td>SEMI-AUTOMATIC PISTOL</td>\n",
       "      <td>JA</td>\n",
       "      <td>Juv Arrest</td>\n",
       "      <td>CRIMINAL HOMICIDE</td>\n",
       "      <td>1</td>\n",
       "    </tr>\n",
       "    <tr>\n",
       "      <th>548524</th>\n",
       "      <td>2024-02-21</td>\n",
       "      <td>2024-02-15</td>\n",
       "      <td>150</td>\n",
       "      <td>Southeast</td>\n",
       "      <td>CRIMINAL HOMICIDE</td>\n",
       "      <td>57</td>\n",
       "      <td>F</td>\n",
       "      <td>B</td>\n",
       "      <td>MULTI-UNIT DWELLING (APARTMENT, DUPLEX, ETC)</td>\n",
       "      <td>UNKNOWN FIREARM</td>\n",
       "      <td>AA</td>\n",
       "      <td>Adult Arrest</td>\n",
       "      <td>CRIMINAL HOMICIDE</td>\n",
       "      <td>1</td>\n",
       "    </tr>\n",
       "    <tr>\n",
       "      <th>548655</th>\n",
       "      <td>2024-02-23</td>\n",
       "      <td>2024-02-20</td>\n",
       "      <td>1326</td>\n",
       "      <td>N Hollywood</td>\n",
       "      <td>CRIMINAL HOMICIDE</td>\n",
       "      <td>19</td>\n",
       "      <td>M</td>\n",
       "      <td>H</td>\n",
       "      <td>SIDEWALK</td>\n",
       "      <td>HAND GUN</td>\n",
       "      <td>JA</td>\n",
       "      <td>Juv Arrest</td>\n",
       "      <td>CRIMINAL HOMICIDE</td>\n",
       "      <td>1</td>\n",
       "    </tr>\n",
       "  </tbody>\n",
       "</table>\n",
       "<p>1542 rows × 14 columns</p>\n",
       "</div>"
      ],
      "text/plain": [
       "          DateRptd     DATEOCC  TIMEOCC     AREANAME          CrmCdDesc  \\\n",
       "2317    2020-05-16  2020-05-15     1945      Central  CRIMINAL HOMICIDE   \n",
       "3181    2020-07-24  2020-07-23     2145       Newton  CRIMINAL HOMICIDE   \n",
       "3961    2020-06-17  2020-06-17       50  77th Street  CRIMINAL HOMICIDE   \n",
       "3989    2020-09-12  2020-09-12     1200    Northeast  CRIMINAL HOMICIDE   \n",
       "4284    2020-11-15  2020-11-15      150       Newton  CRIMINAL HOMICIDE   \n",
       "...            ...         ...      ...          ...                ...   \n",
       "547762  2024-03-12  2024-03-12        1    Southeast  CRIMINAL HOMICIDE   \n",
       "547936  2024-01-08  2024-01-08      536     Wilshire  CRIMINAL HOMICIDE   \n",
       "548250  2024-01-15  2024-01-15     1340       Newton  CRIMINAL HOMICIDE   \n",
       "548524  2024-02-21  2024-02-15      150    Southeast  CRIMINAL HOMICIDE   \n",
       "548655  2024-02-23  2024-02-20     1326  N Hollywood  CRIMINAL HOMICIDE   \n",
       "\n",
       "        VictAge VictSex VictDescent  \\\n",
       "2317         57       M           H   \n",
       "3181         31       M           A   \n",
       "3961         19       M           B   \n",
       "3989         37       M           W   \n",
       "4284         30       F           B   \n",
       "...         ...     ...         ...   \n",
       "547762       20       F           H   \n",
       "547936       44       M           H   \n",
       "548250       22       M           H   \n",
       "548524       57       F           B   \n",
       "548655       19       M           H   \n",
       "\n",
       "                                               PremisDesc  \\\n",
       "2317                                           STAIRWELL*   \n",
       "3181                                             SIDEWALK   \n",
       "3961                                               STREET   \n",
       "3989                                               STREET   \n",
       "4284                                             SIDEWALK   \n",
       "...                                                   ...   \n",
       "547762  MOBILE HOME/TRAILERS/CONSTRUCTION TRAILERS/RV'...   \n",
       "547936                                     OTHER BUSINESS   \n",
       "548250                        SHOPPING MALL (COMMON AREA)   \n",
       "548524       MULTI-UNIT DWELLING (APARTMENT, DUPLEX, ETC)   \n",
       "548655                                           SIDEWALK   \n",
       "\n",
       "                             WeaponDesc Status    StatusDesc  \\\n",
       "2317    UNKNOWN TYPE CUTTING INSTRUMENT     AA  Adult Arrest   \n",
       "3181                    UNKNOWN FIREARM     IC   Invest Cont   \n",
       "3961                    UNKNOWN FIREARM     AA  Adult Arrest   \n",
       "3989                   BLUNT INSTRUMENT     AO   Adult Other   \n",
       "4284                    UNKNOWN FIREARM     AA  Adult Arrest   \n",
       "...                                 ...    ...           ...   \n",
       "547762                      DIRK/DAGGER     IC   Invest Cont   \n",
       "547936                         SCISSORS     AA  Adult Arrest   \n",
       "548250            SEMI-AUTOMATIC PISTOL     JA    Juv Arrest   \n",
       "548524                  UNKNOWN FIREARM     AA  Adult Arrest   \n",
       "548655                         HAND GUN     JA    Juv Arrest   \n",
       "\n",
       "           crime_category  target  \n",
       "2317    CRIMINAL HOMICIDE       1  \n",
       "3181    CRIMINAL HOMICIDE       0  \n",
       "3961    CRIMINAL HOMICIDE       1  \n",
       "3989    CRIMINAL HOMICIDE       0  \n",
       "4284    CRIMINAL HOMICIDE       1  \n",
       "...                   ...     ...  \n",
       "547762  CRIMINAL HOMICIDE       0  \n",
       "547936  CRIMINAL HOMICIDE       1  \n",
       "548250  CRIMINAL HOMICIDE       1  \n",
       "548524  CRIMINAL HOMICIDE       1  \n",
       "548655  CRIMINAL HOMICIDE       1  \n",
       "\n",
       "[1542 rows x 14 columns]"
      ]
     },
     "execution_count": 31,
     "metadata": {},
     "output_type": "execute_result"
    }
   ],
   "source": [
    "# build the model islolating appropriate columns\n",
    "homicide = homicide.loc[:,['DateRptd', 'DATEOCC', 'TIMEOCC','AREANAME','CrmCdDesc','VictAge','VictSex', 'VictDescent','PremisDesc','WeaponDesc', 'Status','StatusDesc','crime_category','target']]\n",
    "\n",
    "homicide"
   ]
  },
  {
   "cell_type": "markdown",
   "metadata": {},
   "source": [
    "### We will vectorize the text columns and see if we can extract any words as features in the model"
   ]
  },
  {
   "cell_type": "code",
   "execution_count": 33,
   "metadata": {},
   "outputs": [
    {
     "data": {
      "text/plain": [
       "41"
      ]
     },
     "execution_count": 33,
     "metadata": {},
     "output_type": "execute_result"
    }
   ],
   "source": [
    "from sklearn.feature_extraction.text import TfidfVectorizer\n",
    "\n"
   ]
  }
 ],
 "metadata": {
  "kernelspec": {
   "display_name": "dev",
   "language": "python",
   "name": "python3"
  },
  "language_info": {
   "codemirror_mode": {
    "name": "ipython",
    "version": 3
   },
   "file_extension": ".py",
   "mimetype": "text/x-python",
   "name": "python",
   "nbconvert_exporter": "python",
   "pygments_lexer": "ipython3",
   "version": "3.11.8"
  }
 },
 "nbformat": 4,
 "nbformat_minor": 2
}
