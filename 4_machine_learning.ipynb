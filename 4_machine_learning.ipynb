{
 "cells": [
  {
   "cell_type": "markdown",
   "metadata": {},
   "source": [
    "### Import required libraries"
   ]
  },
  {
   "cell_type": "code",
   "execution_count": null,
   "metadata": {},
   "outputs": [],
   "source": [
    "# start with common imports\n",
    "import numpy as np\n",
    "import pandas as pd\n",
    "import matplotlib.pyplot as plt\n",
    "import seaborn as sns\n",
    "\n",
    "# import the packages for machine learning pipelines\n",
    "from sklearn.compose import ColumnTransformer\n",
    "from sklearn.feature_extraction.text import TfidfVectorizer\n",
    "from sklearn.impute import SimpleImputer\n",
    "from sklearn.pipeline import Pipeline\n",
    "from sklearn.preprocessing import StandardScaler, OneHotEncoder, LabelEncoder\n",
    "from sklearn.model_selection import GridSearchCV\n",
    "from sklearn.metrics import classification_report, confusion_matrix, accuracy_score, roc_auc_score\n",
    "from fast_ml.model_development import train_valid_test_split\n",
    "from xgboost import XGBClassifier"
   ]
  },
  {
   "cell_type": "markdown",
   "metadata": {},
   "source": [
    "### Read in the data"
   ]
  },
  {
   "cell_type": "code",
   "execution_count": null,
   "metadata": {},
   "outputs": [],
   "source": [
    "data = pd.read_csv('../data/crime_data.csv')\n",
    "\n",
    "data.shape"
   ]
  },
  {
   "cell_type": "code",
   "execution_count": null,
   "metadata": {},
   "outputs": [],
   "source": [
    "data.columns"
   ]
  },
  {
   "cell_type": "markdown",
   "metadata": {},
   "source": [
    "### Natural Language Processing\n",
    "We will execute a few techniques with the text data to make it ready for the model. We will use the following techniques:\n",
    "- Tokenization - converting text into tokens\n",
    "- Removing Stopwords - removing common words that will likely appear in any text\n",
    "- Lemmatization - converting words to their base form\n",
    "- Stemming - reducing words to their root form\n",
    "- n-grams - grouping words together (for example, instead of having \"good\" and \"movie\" as separate tokens, we can have \"good movie\" as one token)"
   ]
  },
  {
   "cell_type": "markdown",
   "metadata": {},
   "source": [
    "### First we will create custom transformers to perform these tasks"
   ]
  },
  {
   "cell_type": "code",
   "execution_count": null,
   "metadata": {},
   "outputs": [],
   "source": [
    "# import required packages\n",
    "from sklearn.base import BaseEstimator, TransformerMixin\n",
    "from nltk.stem import PorterStemmer, WordNetLemmatizer\n",
    "from nltk.tokenize import word_tokenize\n",
    "import nltk\n",
    "\n",
    "# download the required resources\n",
    "nltk.download('punkt')\n",
    "nltk.download('wordnet')\n",
    "\n",
    "# create the stemmer class\n",
    "class Stemmer(BaseEstimator, TransformerMixin): \n",
    "    def __init__(self): \n",
    "        self.stemmer = PorterStemmer() \n",
    "\n",
    "    def fit(self, X, y=None): \n",
    "        return self\n",
    "\n",
    "    def transform(self, X, y=None): \n",
    "        return [' '.join([self.stemmer.stem(word) for word in word_tokenize(text)]) for text in X]\n",
    "\n",
    "# create the lemmatizer class\n",
    "class Lemmatizer(BaseEstimator, TransformerMixin): \n",
    "    def __init__(self):\n",
    "        self.lemmatizer = WordNetLemmatizer() \n",
    "\n",
    "    def fit(self, X, y=None):\n",
    "        return self\n",
    "\n",
    "    def transform(self, X, y=None):\n",
    "        return [' '.join([self.lemmatizer.lemmatize(word) for word in word_tokenize(text)]) for text in X]"
   ]
  },
  {
   "cell_type": "markdown",
   "metadata": {},
   "source": [
    "### Split the data into training, validation and test sets"
   ]
  },
  {
   "cell_type": "code",
   "execution_count": null,
   "metadata": {},
   "outputs": [],
   "source": [
    "\n",
    "# Split the data\n",
    "X = data.drop('target', axis=1)\n",
    "y = data['target']\n",
    "\n",
    "# define the train, validation and test size\n",
    "train_size = 0.7\n",
    "valid_size = 0.1\n",
    "test_size = 0.2\n",
    "\n",
    "X_train, y_train, X_valid, y_valid, X_test, y_test = train_valid_test_split(data, target = 'target', \n",
    "                                                                            train_size=train_size, valid_size=valid_size, test_size=test_size)"
   ]
  },
  {
   "cell_type": "markdown",
   "metadata": {},
   "source": [
    "### Encode the target variable"
   ]
  },
  {
   "cell_type": "code",
   "execution_count": null,
   "metadata": {},
   "outputs": [],
   "source": [
    "# encode the target variable\n",
    "\n",
    "# instantiate the label encoder\n",
    "le = LabelEncoder()\n",
    "\n",
    "# fit and transform the target variable\n",
    "y_train = le.fit_transform(y_train)\n",
    "y_valid = le.transform(y_valid)\n",
    "y_test = le.transform(y_test)"
   ]
  },
  {
   "cell_type": "markdown",
   "metadata": {},
   "source": [
    "### Categorize features"
   ]
  },
  {
   "cell_type": "code",
   "execution_count": null,
   "metadata": {},
   "outputs": [],
   "source": [
    "# Define the text and numeric columns\n",
    "txt = ['text_column1', 'text_column2', 'text_column3']\n",
    "num = ['numeric_column1', 'numeric_column2']\n",
    "cat = ['categorical_column1', 'categorical_column2']"
   ]
  },
  {
   "cell_type": "markdown",
   "metadata": {},
   "source": [
    "### Build the Machine Learning Pipeline"
   ]
  },
  {
   "cell_type": "markdown",
   "metadata": {},
   "source": [
    "### First Step to Pre-Proccess the Data"
   ]
  },
  {
   "cell_type": "code",
   "execution_count": null,
   "metadata": {},
   "outputs": [],
   "source": [
    "# Text pipeline\n",
    "text_pipeline = Pipeline([\n",
    "    ('stemmer', Stemmer()),\n",
    "    ('lemmatizer', Lemmatizer()),\n",
    "    ('imputer', SimpleImputer(strategy='constant', fill_value='')),\n",
    "    ('tfidf', TfidfVectorizer(stop_words='english', max_features=1000, ngram_range=(1, 2), max_df=10, min_df=5)),\n",
    "    ('scaler', StandardScaler(with_mean=False))\n",
    "])\n",
    "\n",
    "# define column transformer\n",
    "preprocessor = ColumnTransformer(\n",
    "    transformers=[\n",
    "        ('num', Pipeline([\n",
    "            ('imputer', SimpleImputer(strategy='constant', fill_value=0)),\n",
    "            ('scaler', StandardScaler())\n",
    "        ]), num),\n",
    "        ('cat', Pipeline([\n",
    "            ('imputer', SimpleImputer(strategy='constant', fill_value='')),\n",
    "            ('onehot', OneHotEncoder())\n",
    "        ]), cat),\n",
    "        ('txt', text_pipeline, txt)\n",
    "    ])\n",
    "\n",
    "# Define the model\n",
    "clf = XGBClassifier()\n",
    "\n",
    "# Create the pipeline\n",
    "pipeline = Pipeline(steps=[('preprocessor', preprocessor),\n",
    "                           ('classifier', clf)])\n"
   ]
  },
  {
   "cell_type": "markdown",
   "metadata": {},
   "source": [
    "### Set up the Parameters for the GridSearchCV and the Model"
   ]
  },
  {
   "cell_type": "code",
   "execution_count": null,
   "metadata": {},
   "outputs": [],
   "source": [
    "from sklearn.model_selection import GridSearchCV, ParameterGrid\n",
    "from tqdm import tqdm\n",
    "\n",
    "# Define the parameter grid\n",
    "param_grid = {\n",
    "    'classifier__n_estimators': [100, 200, 300],\n",
    "    'classifier__max_depth': [3, 4, 5]\n",
    "}\n",
    "\n",
    "# Create a list of dictionaries, each containing one combination of parameters\n",
    "param_list = list(ParameterGrid(param_grid))\n",
    "\n",
    "# Create a progress bar\n",
    "pbar = tqdm(total=len(param_list))\n",
    "\n",
    "# Define the grid search\n",
    "grid_search = GridSearchCV(pipeline, param_grid=param_grid, cv=5, n_jobs=8, verbose=2)\n",
    "\n",
    "# Fit the model\n",
    "grid_search.fit(X_train, y_train)\n",
    "\n",
    "# Close the progress bar\n",
    "pbar.close()"
   ]
  }
 ],
 "metadata": {
  "kernelspec": {
   "display_name": "dev",
   "language": "python",
   "name": "python3"
  },
  "language_info": {
   "codemirror_mode": {
    "name": "ipython",
    "version": 3
   },
   "file_extension": ".py",
   "mimetype": "text/x-python",
   "name": "python",
   "nbconvert_exporter": "python",
   "pygments_lexer": "ipython3",
   "version": "3.11.8"
  }
 },
 "nbformat": 4,
 "nbformat_minor": 2
}
